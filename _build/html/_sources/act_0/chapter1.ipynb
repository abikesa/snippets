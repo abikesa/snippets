{
 "cells": [
  {
   "cell_type": "markdown",
   "metadata": {},
   "source": [
    "# ."
   ]
  },
  {
   "cell_type": "markdown",
   "metadata": {},
   "source": [
    "## 1\n",
    "\n",
    "![](https://github.com/jhutrc/beta/blob/main/act_0/act_0_2/act_0_2_1/fig1_cisplatin.png?raw=true)\n",
    "\n",
    "```bash\n",
    "digraph G {\n",
    "    \n",
    "    label = \"\\n\\n Figure 1. Odds of eligibility for cisplatin in black patients with bladder cancer when race-free eGFR is used\";\n",
    "    rankdir = \"TB\";\n",
    "\n",
    "    // Graph layout parameters\n",
    "    graph [splines=polyline, nodesep=1];\n",
    "    edge [dir=none, color=\"black\"];\n",
    "    node [shape=box, style=\"rounded, filled\"];\n",
    "\n",
    "    // Define nodes\n",
    "    Bladder_Cancer [label=\"Bladder Cancer\", pos=\"0,2.5!\"];\n",
    "    eligibility [shape=point, width=0, height=0, pos=\"0,2!\"];\n",
    "    eGFR_greater_than_60 [label=\"eGFR>60ml/min\", fillcolor=\"honeydew\", pos=\"0,0!\"]\n",
    "    invis1 [shape=point, width=0, height=0, pos=\"-2.5,0!\"];\n",
    "    invis2 [shape=point, width=0, height=0, pos=\"2.5,0!\"];\n",
    "    invis3 [shape=point, width=0, height=0, pos=\"-4,-2.5!\"];\n",
    "    invis4 [shape=point, width=0, height=0, pos=\"-1,-2.5!\"];\n",
    "    CKD_EPI_2021 [label=\"CKD-EPI 2021\", fillcolor=\"lightblue\", pos=\"-2.5,-2.5!\"];\n",
    "    CKD_EPI_2009 [label=\"CKD-EPI 2009\", fillcolor=\"lightpink\", pos=\"2.5,-2.5!\"];\n",
    "    invis5 [shape=point, width=0, height=0, pos=\"1,-2.5!\"];\n",
    "    invis6 [shape=point, width=0, height=0, pos=\"4,-2.5!\"];\n",
    "    Cisplatin_Positive1 [label=\"Cisplatin+\", fillcolor=\"lightyellow\", pos=\"-4,-5!\"];\n",
    "    Cisplatin_Negative1 [label=\"Cisplatin-\", fillcolor=\"lightcoral\", pos=\"-1,-5!\"];\n",
    "    Cisplatin_Positive2 [label=\"Cisplatin+\", fillcolor=\"lightyellow\", pos=\"1,-5!\"];\n",
    "    Cisplatin_Negative2 [label=\"Cisplatin-\", fillcolor=\"lightcoral\", pos=\"4,-5!\"];\n",
    "\n",
    "    // Define edges\n",
    "    Bladder_Cancer -> eligibility;\n",
    "    eligibility -> eGFR_greater_than_60;\n",
    "    eGFR_greater_than_60 -> invis1;\n",
    "    eGFR_greater_than_60 -> invis2;\n",
    "    invis1 -> CKD_EPI_2021;\n",
    "    CKD_EPI_2021 -> invis3;\n",
    "    CKD_EPI_2021 -> invis4;\n",
    "    invis2 -> CKD_EPI_2009;\n",
    "    CKD_EPI_2009 -> invis5;\n",
    "    CKD_EPI_2009 -> invis6;\n",
    "    invis3 -> Cisplatin_Positive1;\n",
    "    invis4 -> Cisplatin_Negative1;\n",
    "    invis5 -> Cisplatin_Positive2;\n",
    "    invis6 -> Cisplatin_Negative2;\n",
    "\n",
    "    // Same level definition\n",
    "    {\n",
    "        rank=same;\n",
    "        invis2;\n",
    "        invis1;\n",
    "        eGFR_greater_than_60; // Centered random node\n",
    "    }\n",
    "}\n",
    "```\n",
    "\n",
    "```bash\n",
    "neato -Tpng fig1.dot -o fig1_cisplatin.png\n",
    "```"
   ]
  }
 ],
 "metadata": {
  "kernelspec": {
   "display_name": "myenv",
   "language": "python",
   "name": "python3"
  },
  "language_info": {
   "codemirror_mode": {
    "name": "ipython",
    "version": 3
   },
   "file_extension": ".py",
   "mimetype": "text/x-python",
   "name": "python",
   "nbconvert_exporter": "python",
   "pygments_lexer": "ipython3",
   "version": "3.11.4"
  },
  "orig_nbformat": 4
 },
 "nbformat": 4,
 "nbformat_minor": 2
}
